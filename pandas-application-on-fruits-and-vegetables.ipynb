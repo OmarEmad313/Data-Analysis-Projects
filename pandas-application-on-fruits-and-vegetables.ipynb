{
 "cells": [
  {
   "cell_type": "code",
   "execution_count": 1,
   "id": "7ea1dbbb",
   "metadata": {
    "_cell_guid": "b1076dfc-b9ad-4769-8c92-a6c4dae69d19",
    "_uuid": "8f2839f25d086af736a60e9eeb907d3b93b6e0e5",
    "execution": {
     "iopub.execute_input": "2023-11-14T11:20:08.139959Z",
     "iopub.status.busy": "2023-11-14T11:20:08.139089Z",
     "iopub.status.idle": "2023-11-14T11:20:10.449178Z",
     "shell.execute_reply": "2023-11-14T11:20:10.447823Z"
    },
    "papermill": {
     "duration": 2.325902,
     "end_time": "2023-11-14T11:20:10.452240",
     "exception": false,
     "start_time": "2023-11-14T11:20:08.126338",
     "status": "completed"
    },
    "tags": []
   },
   "outputs": [
    {
     "name": "stdout",
     "output_type": "stream",
     "text": [
      "/kaggle/input/fruits-and-vegetables-prices-in-usa/Prices.csv\n"
     ]
    }
   ],
   "source": [
    "# This Python 3 environment comes with many helpful analytics libraries installed\n",
    "# It is defined by the kaggle/python Docker image: https://github.com/kaggle/docker-python\n",
    "# For example, here's several helpful packages to load\n",
    "\n",
    "import numpy as np # linear algebra\n",
    "import pandas as pd # data processing, CSV file I/O (e.g. pd.read_csv)\n",
    "import matplotlib.pyplot as plt\n",
    "import seaborn as sns\n",
    "# Input data files are available in the read-only \"../input/\" directory\n",
    "# For example, running this (by clicking run or pressing Shift+Enter) will list all files under the input directory\n",
    "\n",
    "import os\n",
    "for dirname, _, filenames in os.walk('/kaggle/input'):\n",
    "    for filename in filenames:\n",
    "        print(os.path.join(dirname, filename))\n",
    "\n",
    "# You can write up to 20GB to the current directory (/kaggle/working/) that gets preserved as output when you create a version using \"Save & Run All\" \n",
    "# You can also write temporary files to /kaggle/temp/, but they won't be saved outside of the current session"
   ]
  },
  {
   "cell_type": "code",
   "execution_count": 2,
   "id": "681da45b",
   "metadata": {
    "execution": {
     "iopub.execute_input": "2023-11-14T11:20:10.475344Z",
     "iopub.status.busy": "2023-11-14T11:20:10.474674Z",
     "iopub.status.idle": "2023-11-14T11:20:10.498475Z",
     "shell.execute_reply": "2023-11-14T11:20:10.497484Z"
    },
    "papermill": {
     "duration": 0.038918,
     "end_time": "2023-11-14T11:20:10.501553",
     "exception": false,
     "start_time": "2023-11-14T11:20:10.462635",
     "status": "completed"
    },
    "tags": []
   },
   "outputs": [],
   "source": [
    "file = pd.read_csv(\"/kaggle/input/fruits-and-vegetables-prices-in-usa/Prices.csv\")"
   ]
  },
  {
   "cell_type": "code",
   "execution_count": 3,
   "id": "72725475",
   "metadata": {
    "execution": {
     "iopub.execute_input": "2023-11-14T11:20:10.523176Z",
     "iopub.status.busy": "2023-11-14T11:20:10.522687Z",
     "iopub.status.idle": "2023-11-14T11:20:10.528508Z",
     "shell.execute_reply": "2023-11-14T11:20:10.527302Z"
    },
    "papermill": {
     "duration": 0.021135,
     "end_time": "2023-11-14T11:20:10.531827",
     "exception": false,
     "start_time": "2023-11-14T11:20:10.510692",
     "status": "completed"
    },
    "tags": []
   },
   "outputs": [],
   "source": [
    "df = pd.DataFrame(file)"
   ]
  },
  {
   "cell_type": "code",
   "execution_count": 4,
   "id": "bdd8aa35",
   "metadata": {
    "execution": {
     "iopub.execute_input": "2023-11-14T11:20:10.552481Z",
     "iopub.status.busy": "2023-11-14T11:20:10.552054Z",
     "iopub.status.idle": "2023-11-14T11:20:10.586665Z",
     "shell.execute_reply": "2023-11-14T11:20:10.584698Z"
    },
    "papermill": {
     "duration": 0.049582,
     "end_time": "2023-11-14T11:20:10.591305",
     "exception": false,
     "start_time": "2023-11-14T11:20:10.541723",
     "status": "completed"
    },
    "tags": []
   },
   "outputs": [
    {
     "data": {
      "text/html": [
       "<div>\n",
       "<style scoped>\n",
       "    .dataframe tbody tr th:only-of-type {\n",
       "        vertical-align: middle;\n",
       "    }\n",
       "\n",
       "    .dataframe tbody tr th {\n",
       "        vertical-align: top;\n",
       "    }\n",
       "\n",
       "    .dataframe thead th {\n",
       "        text-align: right;\n",
       "    }\n",
       "</style>\n",
       "<table border=\"1\" class=\"dataframe\">\n",
       "  <thead>\n",
       "    <tr style=\"text-align: right;\">\n",
       "      <th></th>\n",
       "      <th>Item</th>\n",
       "      <th>Form</th>\n",
       "      <th>RetailPrice</th>\n",
       "      <th>RetailPriceUnit</th>\n",
       "      <th>Yield</th>\n",
       "      <th>CupEquivalentSize</th>\n",
       "      <th>CupEquivalentUnit</th>\n",
       "      <th>CupEquivalentPrice</th>\n",
       "    </tr>\n",
       "  </thead>\n",
       "  <tbody>\n",
       "    <tr>\n",
       "      <th>0</th>\n",
       "      <td>Acorn squash</td>\n",
       "      <td>Fresh</td>\n",
       "      <td>1.1804</td>\n",
       "      <td>per pound</td>\n",
       "      <td>0.4586</td>\n",
       "      <td>0.4519</td>\n",
       "      <td>pounds</td>\n",
       "      <td>1.1633</td>\n",
       "    </tr>\n",
       "    <tr>\n",
       "      <th>1</th>\n",
       "      <td>Apples</td>\n",
       "      <td>Fresh</td>\n",
       "      <td>1.5193</td>\n",
       "      <td>per pound</td>\n",
       "      <td>0.9000</td>\n",
       "      <td>0.2425</td>\n",
       "      <td>pounds</td>\n",
       "      <td>0.4094</td>\n",
       "    </tr>\n",
       "    <tr>\n",
       "      <th>2</th>\n",
       "      <td>Apples, applesauce</td>\n",
       "      <td>Canned</td>\n",
       "      <td>1.0660</td>\n",
       "      <td>per pound</td>\n",
       "      <td>1.0000</td>\n",
       "      <td>0.5401</td>\n",
       "      <td>pounds</td>\n",
       "      <td>0.5758</td>\n",
       "    </tr>\n",
       "    <tr>\n",
       "      <th>3</th>\n",
       "      <td>Apples, frozen concentrate</td>\n",
       "      <td>Juice</td>\n",
       "      <td>0.5853</td>\n",
       "      <td>per pint</td>\n",
       "      <td>1.0000</td>\n",
       "      <td>8.0000</td>\n",
       "      <td>fluid ounces</td>\n",
       "      <td>0.2926</td>\n",
       "    </tr>\n",
       "    <tr>\n",
       "      <th>4</th>\n",
       "      <td>Apples, ready-to-drink</td>\n",
       "      <td>Juice</td>\n",
       "      <td>0.7804</td>\n",
       "      <td>per pint</td>\n",
       "      <td>1.0000</td>\n",
       "      <td>8.0000</td>\n",
       "      <td>fluid ounces</td>\n",
       "      <td>0.3902</td>\n",
       "    </tr>\n",
       "  </tbody>\n",
       "</table>\n",
       "</div>"
      ],
      "text/plain": [
       "                         Item    Form  RetailPrice RetailPriceUnit   Yield  \\\n",
       "0                Acorn squash   Fresh       1.1804       per pound  0.4586   \n",
       "1                      Apples   Fresh       1.5193       per pound  0.9000   \n",
       "2          Apples, applesauce  Canned       1.0660       per pound  1.0000   \n",
       "3  Apples, frozen concentrate   Juice       0.5853        per pint  1.0000   \n",
       "4      Apples, ready-to-drink   Juice       0.7804        per pint  1.0000   \n",
       "\n",
       "   CupEquivalentSize CupEquivalentUnit  CupEquivalentPrice  \n",
       "0             0.4519            pounds              1.1633  \n",
       "1             0.2425            pounds              0.4094  \n",
       "2             0.5401            pounds              0.5758  \n",
       "3             8.0000      fluid ounces              0.2926  \n",
       "4             8.0000      fluid ounces              0.3902  "
      ]
     },
     "execution_count": 4,
     "metadata": {},
     "output_type": "execute_result"
    }
   ],
   "source": [
    "df.head()"
   ]
  },
  {
   "cell_type": "code",
   "execution_count": 5,
   "id": "33bb0610",
   "metadata": {
    "execution": {
     "iopub.execute_input": "2023-11-14T11:20:10.612121Z",
     "iopub.status.busy": "2023-11-14T11:20:10.611686Z",
     "iopub.status.idle": "2023-11-14T11:20:10.621623Z",
     "shell.execute_reply": "2023-11-14T11:20:10.620314Z"
    },
    "papermill": {
     "duration": 0.023873,
     "end_time": "2023-11-14T11:20:10.624679",
     "exception": false,
     "start_time": "2023-11-14T11:20:10.600806",
     "status": "completed"
    },
    "tags": []
   },
   "outputs": [
    {
     "data": {
      "text/plain": [
       "2.1795529032258063"
      ]
     },
     "execution_count": 5,
     "metadata": {},
     "output_type": "execute_result"
    }
   ],
   "source": [
    "df['RetailPrice'].mean()"
   ]
  },
  {
   "cell_type": "code",
   "execution_count": 6,
   "id": "5d333c06",
   "metadata": {
    "execution": {
     "iopub.execute_input": "2023-11-14T11:20:10.645932Z",
     "iopub.status.busy": "2023-11-14T11:20:10.645171Z",
     "iopub.status.idle": "2023-11-14T11:20:10.661344Z",
     "shell.execute_reply": "2023-11-14T11:20:10.659407Z"
    },
    "papermill": {
     "duration": 0.02988,
     "end_time": "2023-11-14T11:20:10.664383",
     "exception": false,
     "start_time": "2023-11-14T11:20:10.634503",
     "status": "completed"
    },
    "tags": []
   },
   "outputs": [
    {
     "data": {
      "text/plain": [
       "array(['per pound', 'per pint'], dtype=object)"
      ]
     },
     "execution_count": 6,
     "metadata": {},
     "output_type": "execute_result"
    }
   ],
   "source": [
    "df[\"RetailPriceUnit\"].unique()"
   ]
  },
  {
   "cell_type": "code",
   "execution_count": 7,
   "id": "4cb1e90d",
   "metadata": {
    "execution": {
     "iopub.execute_input": "2023-11-14T11:20:10.687298Z",
     "iopub.status.busy": "2023-11-14T11:20:10.686852Z",
     "iopub.status.idle": "2023-11-14T11:20:10.697702Z",
     "shell.execute_reply": "2023-11-14T11:20:10.696464Z"
    },
    "papermill": {
     "duration": 0.025902,
     "end_time": "2023-11-14T11:20:10.701005",
     "exception": false,
     "start_time": "2023-11-14T11:20:10.675103",
     "status": "completed"
    },
    "tags": []
   },
   "outputs": [
    {
     "data": {
      "text/plain": [
       "0      0.4586\n",
       "1      0.9000\n",
       "2      1.0000\n",
       "3      1.0000\n",
       "4      1.0000\n",
       "        ...  \n",
       "150    0.7500\n",
       "151    0.6500\n",
       "152    0.7760\n",
       "153    0.5200\n",
       "154    0.7695\n",
       "Name: Yield, Length: 155, dtype: float64"
      ]
     },
     "execution_count": 7,
     "metadata": {},
     "output_type": "execute_result"
    }
   ],
   "source": [
    "df[\"Yield\"]"
   ]
  },
  {
   "cell_type": "code",
   "execution_count": 8,
   "id": "56f3ed43",
   "metadata": {
    "execution": {
     "iopub.execute_input": "2023-11-14T11:20:10.726396Z",
     "iopub.status.busy": "2023-11-14T11:20:10.725605Z",
     "iopub.status.idle": "2023-11-14T11:20:10.757886Z",
     "shell.execute_reply": "2023-11-14T11:20:10.756429Z"
    },
    "papermill": {
     "duration": 0.050317,
     "end_time": "2023-11-14T11:20:10.761567",
     "exception": false,
     "start_time": "2023-11-14T11:20:10.711250",
     "status": "completed"
    },
    "tags": []
   },
   "outputs": [
    {
     "data": {
      "text/html": [
       "<div>\n",
       "<style scoped>\n",
       "    .dataframe tbody tr th:only-of-type {\n",
       "        vertical-align: middle;\n",
       "    }\n",
       "\n",
       "    .dataframe tbody tr th {\n",
       "        vertical-align: top;\n",
       "    }\n",
       "\n",
       "    .dataframe thead th {\n",
       "        text-align: right;\n",
       "    }\n",
       "</style>\n",
       "<table border=\"1\" class=\"dataframe\">\n",
       "  <thead>\n",
       "    <tr style=\"text-align: right;\">\n",
       "      <th></th>\n",
       "      <th>RetailPrice</th>\n",
       "      <th>Yield</th>\n",
       "      <th>CupEquivalentSize</th>\n",
       "      <th>CupEquivalentPrice</th>\n",
       "    </tr>\n",
       "  </thead>\n",
       "  <tbody>\n",
       "    <tr>\n",
       "      <th>count</th>\n",
       "      <td>155.000000</td>\n",
       "      <td>155.000000</td>\n",
       "      <td>155.000000</td>\n",
       "      <td>155.000000</td>\n",
       "    </tr>\n",
       "    <tr>\n",
       "      <th>mean</th>\n",
       "      <td>2.179553</td>\n",
       "      <td>0.926450</td>\n",
       "      <td>0.885175</td>\n",
       "      <td>0.814088</td>\n",
       "    </tr>\n",
       "    <tr>\n",
       "      <th>std</th>\n",
       "      <td>1.559205</td>\n",
       "      <td>0.400215</td>\n",
       "      <td>1.974584</td>\n",
       "      <td>0.485388</td>\n",
       "    </tr>\n",
       "    <tr>\n",
       "      <th>min</th>\n",
       "      <td>0.360400</td>\n",
       "      <td>0.375000</td>\n",
       "      <td>0.123200</td>\n",
       "      <td>0.202100</td>\n",
       "    </tr>\n",
       "    <tr>\n",
       "      <th>25%</th>\n",
       "      <td>1.156550</td>\n",
       "      <td>0.665000</td>\n",
       "      <td>0.319700</td>\n",
       "      <td>0.519850</td>\n",
       "    </tr>\n",
       "    <tr>\n",
       "      <th>50%</th>\n",
       "      <td>1.721800</td>\n",
       "      <td>0.910000</td>\n",
       "      <td>0.352700</td>\n",
       "      <td>0.676900</td>\n",
       "    </tr>\n",
       "    <tr>\n",
       "      <th>75%</th>\n",
       "      <td>2.578300</td>\n",
       "      <td>1.000000</td>\n",
       "      <td>0.385800</td>\n",
       "      <td>1.022300</td>\n",
       "    </tr>\n",
       "    <tr>\n",
       "      <th>max</th>\n",
       "      <td>10.552700</td>\n",
       "      <td>2.539700</td>\n",
       "      <td>8.000000</td>\n",
       "      <td>3.070000</td>\n",
       "    </tr>\n",
       "  </tbody>\n",
       "</table>\n",
       "</div>"
      ],
      "text/plain": [
       "       RetailPrice       Yield  CupEquivalentSize  CupEquivalentPrice\n",
       "count   155.000000  155.000000         155.000000          155.000000\n",
       "mean      2.179553    0.926450           0.885175            0.814088\n",
       "std       1.559205    0.400215           1.974584            0.485388\n",
       "min       0.360400    0.375000           0.123200            0.202100\n",
       "25%       1.156550    0.665000           0.319700            0.519850\n",
       "50%       1.721800    0.910000           0.352700            0.676900\n",
       "75%       2.578300    1.000000           0.385800            1.022300\n",
       "max      10.552700    2.539700           8.000000            3.070000"
      ]
     },
     "execution_count": 8,
     "metadata": {},
     "output_type": "execute_result"
    }
   ],
   "source": [
    "df.describe()"
   ]
  },
  {
   "cell_type": "code",
   "execution_count": 9,
   "id": "9da5089e",
   "metadata": {
    "execution": {
     "iopub.execute_input": "2023-11-14T11:20:10.787868Z",
     "iopub.status.busy": "2023-11-14T11:20:10.786749Z",
     "iopub.status.idle": "2023-11-14T11:20:10.806123Z",
     "shell.execute_reply": "2023-11-14T11:20:10.803605Z"
    },
    "papermill": {
     "duration": 0.034551,
     "end_time": "2023-11-14T11:20:10.809468",
     "exception": false,
     "start_time": "2023-11-14T11:20:10.774917",
     "status": "completed"
    },
    "tags": []
   },
   "outputs": [
    {
     "name": "stdout",
     "output_type": "stream",
     "text": [
      "                     Item    Form  RetailPrice RetailPriceUnit   Yield  \\\n",
      "13              Asparagus  Frozen       6.7045       per pound  1.0335   \n",
      "19            Black beans   Dried       1.3753       per pound  2.4692   \n",
      "23          Blackeye peas   Dried       1.7584       per pound  2.5397   \n",
      "29       Brussels sprouts   Fresh       2.6895       per pound  1.0600   \n",
      "49         Collard greens   Fresh       2.6820       per pound  1.1600   \n",
      "69   Great northern beans   Dried       1.6965       per pound  2.4692   \n",
      "77                   Kale   Fresh       2.5018       per pound  1.0500   \n",
      "80           Kidney beans   Dried       1.7218       per pound  2.4692   \n",
      "82                Lentils   Dried       1.6493       per pound  2.4692   \n",
      "87             Lima beans  Frozen       1.8995       per pound  1.0970   \n",
      "88             Lima beans   Dried       2.1861       per pound  2.5397   \n",
      "100            Navy beans   Dried       1.4942       per pound  2.4692   \n",
      "125           Pinto beans   Dried       1.2933       per pound  2.4692   \n",
      "\n",
      "     CupEquivalentSize CupEquivalentUnit  CupEquivalentPrice  \n",
      "13              0.3968            pounds              2.5742  \n",
      "19              0.3858            pounds              0.2149  \n",
      "23              0.3858            pounds              0.2671  \n",
      "29              0.3417            pounds              0.8670  \n",
      "49              0.2866            pounds              0.6626  \n",
      "69              0.3858            pounds              0.2651  \n",
      "77              0.2866            pounds              0.6829  \n",
      "80              0.3858            pounds              0.2690  \n",
      "82              0.3858            pounds              0.2577  \n",
      "87              0.3748            pounds              0.6489  \n",
      "88              0.3858            pounds              0.3321  \n",
      "100             0.3858            pounds              0.2335  \n",
      "125             0.3858            pounds              0.2021  \n",
      "8.38709677419355\n"
     ]
    }
   ],
   "source": [
    "# Filter and inspect outliers\n",
    "outliers = df[df['Yield'] > 1]\n",
    "print(outliers)\n",
    "percentage_of_outliers=(outliers.shape[0]/df.shape[0])* 100\n",
    "print(percentage_of_outliers)\n",
    "# Assuming 'df' is your original DataFrame and 'outliers' is a DataFrame of outlier rows\n",
    "df = df.drop(outliers.index)"
   ]
  },
  {
   "cell_type": "code",
   "execution_count": 10,
   "id": "747ac5bf",
   "metadata": {
    "execution": {
     "iopub.execute_input": "2023-11-14T11:20:10.835654Z",
     "iopub.status.busy": "2023-11-14T11:20:10.834620Z",
     "iopub.status.idle": "2023-11-14T11:20:10.863775Z",
     "shell.execute_reply": "2023-11-14T11:20:10.862712Z"
    },
    "papermill": {
     "duration": 0.044665,
     "end_time": "2023-11-14T11:20:10.866866",
     "exception": false,
     "start_time": "2023-11-14T11:20:10.822201",
     "status": "completed"
    },
    "tags": []
   },
   "outputs": [
    {
     "data": {
      "text/plain": [
       "<Figure size 1500x1000 with 0 Axes>"
      ]
     },
     "execution_count": 10,
     "metadata": {},
     "output_type": "execute_result"
    },
    {
     "data": {
      "text/plain": [
       "<Figure size 1500x1000 with 0 Axes>"
      ]
     },
     "metadata": {},
     "output_type": "display_data"
    }
   ],
   "source": [
    "plt.figure(figsize=(15, 10))"
   ]
  },
  {
   "cell_type": "code",
   "execution_count": 11,
   "id": "98d3b0b5",
   "metadata": {
    "execution": {
     "iopub.execute_input": "2023-11-14T11:20:10.893704Z",
     "iopub.status.busy": "2023-11-14T11:20:10.892717Z",
     "iopub.status.idle": "2023-11-14T11:20:10.908801Z",
     "shell.execute_reply": "2023-11-14T11:20:10.907713Z"
    },
    "papermill": {
     "duration": 0.032292,
     "end_time": "2023-11-14T11:20:10.911623",
     "exception": false,
     "start_time": "2023-11-14T11:20:10.879331",
     "status": "completed"
    },
    "tags": []
   },
   "outputs": [],
   "source": [
    "retail_price_unit_counts=df[\"RetailPriceUnit\"].value_counts()"
   ]
  },
  {
   "cell_type": "code",
   "execution_count": 12,
   "id": "e6ba8e5f",
   "metadata": {
    "execution": {
     "iopub.execute_input": "2023-11-14T11:20:10.939257Z",
     "iopub.status.busy": "2023-11-14T11:20:10.938420Z",
     "iopub.status.idle": "2023-11-14T11:20:11.285410Z",
     "shell.execute_reply": "2023-11-14T11:20:11.283715Z"
    },
    "papermill": {
     "duration": 0.366655,
     "end_time": "2023-11-14T11:20:11.290415",
     "exception": false,
     "start_time": "2023-11-14T11:20:10.923760",
     "status": "completed"
    },
    "tags": []
   },
   "outputs": [
    {
     "data": {
      "image/png": "[encoded data removed]",
      "text/plain": [
       "<Figure size 800x600 with 1 Axes>"
      ]
     },
     "metadata": {},
     "output_type": "display_data"
    }
   ],
   "source": [
    "# Set up the matplotlib figure\n",
    "plt.figure(figsize=(8, 6))\n",
    "\n",
    "# Create a bar plot\n",
    "plt.pie(retail_price_unit_counts, labels=retail_price_unit_counts.index, autopct='%1.1f%%', startangle=140)\n",
    "\n",
    "# Adding titles and labels\n",
    "plt.title('Count of Retail Price Units')\n",
    "\n",
    "\n",
    "# Show the plot\n",
    "plt.show()\n"
   ]
  },
  {
   "cell_type": "code",
   "execution_count": 13,
   "id": "ebafebfc",
   "metadata": {
    "execution": {
     "iopub.execute_input": "2023-11-14T11:20:11.326463Z",
     "iopub.status.busy": "2023-11-14T11:20:11.325676Z",
     "iopub.status.idle": "2023-11-14T11:20:11.847265Z",
     "shell.execute_reply": "2023-11-14T11:20:11.845077Z"
    },
    "papermill": {
     "duration": 0.540453,
     "end_time": "2023-11-14T11:20:11.851401",
     "exception": false,
     "start_time": "2023-11-14T11:20:11.310948",
     "status": "completed"
    },
    "tags": []
   },
   "outputs": [
    {
     "data": {
      "image/png": "[encoded data removed]",
      "text/plain": [
       "<Figure size 640x480 with 1 Axes>"
      ]
     },
     "metadata": {},
     "output_type": "display_data"
    }
   ],
   "source": [
    "# Histogram for Yield\n",
    "plt.subplot(1, 1, 1)\n",
    "sns.histplot(df['RetailPrice'], kde=True)\n",
    "plt.title('Distribution of RetailPrice')\n",
    "plt.show()"
   ]
  },
  {
   "cell_type": "code",
   "execution_count": 14,
   "id": "4943653e",
   "metadata": {
    "execution": {
     "iopub.execute_input": "2023-11-14T11:20:11.879296Z",
     "iopub.status.busy": "2023-11-14T11:20:11.878395Z",
     "iopub.status.idle": "2023-11-14T11:20:12.368667Z",
     "shell.execute_reply": "2023-11-14T11:20:12.367229Z"
    },
    "papermill": {
     "duration": 0.508774,
     "end_time": "2023-11-14T11:20:12.371700",
     "exception": false,
     "start_time": "2023-11-14T11:20:11.862926",
     "status": "completed"
    },
    "tags": []
   },
   "outputs": [
    {
     "data": {
      "image/png": "[encoded data removed]",
      "text/plain": [
       "<Figure size 640x480 with 1 Axes>"
      ]
     },
     "metadata": {},
     "output_type": "display_data"
    }
   ],
   "source": [
    "# Histogram for RetailPrice per pound\n",
    "df_per_pound=df[df[\"RetailPriceUnit\"]==\"per pound\"]\n",
    "plt.subplot(1, 1, 1)\n",
    "sns.histplot(df_per_pound['RetailPrice'], kde=True)\n",
    "plt.title('Distribution of Retail Prices per pound')\n",
    "\n",
    "plt.show()\n"
   ]
  },
  {
   "cell_type": "code",
   "execution_count": 15,
   "id": "91848aa8",
   "metadata": {
    "execution": {
     "iopub.execute_input": "2023-11-14T11:20:12.402324Z",
     "iopub.status.busy": "2023-11-14T11:20:12.401796Z",
     "iopub.status.idle": "2023-11-14T11:20:12.863448Z",
     "shell.execute_reply": "2023-11-14T11:20:12.861292Z"
    },
    "papermill": {
     "duration": 0.4832,
     "end_time": "2023-11-14T11:20:12.868466",
     "exception": false,
     "start_time": "2023-11-14T11:20:12.385266",
     "status": "completed"
    },
    "tags": []
   },
   "outputs": [
    {
     "data": {
      "image/png": "[encoded data removed]",
      "text/plain": [
       "<Figure size 640x480 with 1 Axes>"
      ]
     },
     "metadata": {},
     "output_type": "display_data"
    }
   ],
   "source": [
    "# Histogram for RetailPrice\n",
    "df_per_pint=df[df[\"RetailPriceUnit\"]==\"per pint\"]\n",
    "plt.subplot(1, 1, 1)\n",
    "sns.histplot(df_per_pint['RetailPrice'], kde=True)\n",
    "plt.title('Distribution of Retail Prices per pint')\n",
    "\n",
    "plt.show()\n"
   ]
  },
  {
   "cell_type": "code",
   "execution_count": 16,
   "id": "bdb96368",
   "metadata": {
    "execution": {
     "iopub.execute_input": "2023-11-14T11:20:12.908525Z",
     "iopub.status.busy": "2023-11-14T11:20:12.908054Z",
     "iopub.status.idle": "2023-11-14T11:20:13.361232Z",
     "shell.execute_reply": "2023-11-14T11:20:13.359481Z"
    },
    "papermill": {
     "duration": 0.474814,
     "end_time": "2023-11-14T11:20:13.364900",
     "exception": false,
     "start_time": "2023-11-14T11:20:12.890086",
     "status": "completed"
    },
    "tags": []
   },
   "outputs": [
    {
     "data": {
      "image/png": "[encoded data removed]",
      "text/plain": [
       "<Figure size 640x480 with 1 Axes>"
      ]
     },
     "metadata": {},
     "output_type": "display_data"
    }
   ],
   "source": [
    "# Histogram for Yield\n",
    "plt.subplot(1, 1, 1)\n",
    "sns.histplot(df['Yield'], kde=True)\n",
    "plt.title('Distribution of Yield')\n",
    "plt.show()"
   ]
  },
  {
   "cell_type": "code",
   "execution_count": 17,
   "id": "16679db5",
   "metadata": {
    "execution": {
     "iopub.execute_input": "2023-11-14T11:20:13.399549Z",
     "iopub.status.busy": "2023-11-14T11:20:13.399115Z",
     "iopub.status.idle": "2023-11-14T11:20:13.691755Z",
     "shell.execute_reply": "2023-11-14T11:20:13.689876Z"
    },
    "papermill": {
     "duration": 0.315028,
     "end_time": "2023-11-14T11:20:13.695297",
     "exception": false,
     "start_time": "2023-11-14T11:20:13.380269",
     "status": "completed"
    },
    "tags": []
   },
   "outputs": [
    {
     "data": {
      "image/png": "[encoded data removed]",
      "text/plain": [
       "<Figure size 800x600 with 1 Axes>"
      ]
     },
     "metadata": {},
     "output_type": "display_data"
    }
   ],
   "source": [
    "plt.figure(figsize=(8,6))\n",
    "sns.boxplot(x='CupEquivalentSize',data=df)\n",
    "plt.title('CupEquivalentSize')\n",
    "plt.show()"
   ]
  },
  {
   "cell_type": "code",
   "execution_count": 18,
   "id": "8b0b53f1",
   "metadata": {
    "execution": {
     "iopub.execute_input": "2023-11-14T11:20:13.726968Z",
     "iopub.status.busy": "2023-11-14T11:20:13.726420Z",
     "iopub.status.idle": "2023-11-14T11:20:13.753015Z",
     "shell.execute_reply": "2023-11-14T11:20:13.751407Z"
    },
    "papermill": {
     "duration": 0.046267,
     "end_time": "2023-11-14T11:20:13.756298",
     "exception": false,
     "start_time": "2023-11-14T11:20:13.710031",
     "status": "completed"
    },
    "tags": []
   },
   "outputs": [
    {
     "data": {
      "text/html": [
       "<div>\n",
       "<style scoped>\n",
       "    .dataframe tbody tr th:only-of-type {\n",
       "        vertical-align: middle;\n",
       "    }\n",
       "\n",
       "    .dataframe tbody tr th {\n",
       "        vertical-align: top;\n",
       "    }\n",
       "\n",
       "    .dataframe thead th {\n",
       "        text-align: right;\n",
       "    }\n",
       "</style>\n",
       "<table border=\"1\" class=\"dataframe\">\n",
       "  <thead>\n",
       "    <tr style=\"text-align: right;\">\n",
       "      <th></th>\n",
       "      <th>Item</th>\n",
       "      <th>Form</th>\n",
       "      <th>RetailPrice</th>\n",
       "      <th>RetailPriceUnit</th>\n",
       "      <th>Yield</th>\n",
       "      <th>CupEquivalentSize</th>\n",
       "      <th>CupEquivalentUnit</th>\n",
       "      <th>CupEquivalentPrice</th>\n",
       "    </tr>\n",
       "  </thead>\n",
       "  <tbody>\n",
       "    <tr>\n",
       "      <th>3</th>\n",
       "      <td>Apples, frozen concentrate</td>\n",
       "      <td>Juice</td>\n",
       "      <td>0.5853</td>\n",
       "      <td>per pint</td>\n",
       "      <td>1.0</td>\n",
       "      <td>8.0</td>\n",
       "      <td>fluid ounces</td>\n",
       "      <td>0.2926</td>\n",
       "    </tr>\n",
       "    <tr>\n",
       "      <th>4</th>\n",
       "      <td>Apples, ready-to-drink</td>\n",
       "      <td>Juice</td>\n",
       "      <td>0.7804</td>\n",
       "      <td>per pint</td>\n",
       "      <td>1.0</td>\n",
       "      <td>8.0</td>\n",
       "      <td>fluid ounces</td>\n",
       "      <td>0.3902</td>\n",
       "    </tr>\n",
       "    <tr>\n",
       "      <th>63</th>\n",
       "      <td>Grapefruit, ready-to-drink</td>\n",
       "      <td>Juice</td>\n",
       "      <td>1.0415</td>\n",
       "      <td>per pint</td>\n",
       "      <td>1.0</td>\n",
       "      <td>8.0</td>\n",
       "      <td>fluid ounces</td>\n",
       "      <td>0.5208</td>\n",
       "    </tr>\n",
       "    <tr>\n",
       "      <th>66</th>\n",
       "      <td>Grapes, frozen concentrate</td>\n",
       "      <td>Juice</td>\n",
       "      <td>0.7119</td>\n",
       "      <td>per pint</td>\n",
       "      <td>1.0</td>\n",
       "      <td>8.0</td>\n",
       "      <td>fluid ounces</td>\n",
       "      <td>0.3559</td>\n",
       "    </tr>\n",
       "    <tr>\n",
       "      <th>67</th>\n",
       "      <td>Grapes, ready-to-drink</td>\n",
       "      <td>Juice</td>\n",
       "      <td>0.9215</td>\n",
       "      <td>per pint</td>\n",
       "      <td>1.0</td>\n",
       "      <td>8.0</td>\n",
       "      <td>fluid ounces</td>\n",
       "      <td>0.4607</td>\n",
       "    </tr>\n",
       "    <tr>\n",
       "      <th>107</th>\n",
       "      <td>Oranges, frozen concentrate</td>\n",
       "      <td>Juice</td>\n",
       "      <td>0.7690</td>\n",
       "      <td>per pint</td>\n",
       "      <td>1.0</td>\n",
       "      <td>8.0</td>\n",
       "      <td>fluid ounces</td>\n",
       "      <td>0.3845</td>\n",
       "    </tr>\n",
       "    <tr>\n",
       "      <th>108</th>\n",
       "      <td>Oranges, ready-to-drink</td>\n",
       "      <td>Juice</td>\n",
       "      <td>0.9842</td>\n",
       "      <td>per pint</td>\n",
       "      <td>1.0</td>\n",
       "      <td>8.0</td>\n",
       "      <td>fluid ounces</td>\n",
       "      <td>0.4921</td>\n",
       "    </tr>\n",
       "    <tr>\n",
       "      <th>120</th>\n",
       "      <td>Pineapple, frozen concentrate</td>\n",
       "      <td>Juice</td>\n",
       "      <td>0.6973</td>\n",
       "      <td>per pint</td>\n",
       "      <td>1.0</td>\n",
       "      <td>8.0</td>\n",
       "      <td>fluid ounces</td>\n",
       "      <td>0.3486</td>\n",
       "    </tr>\n",
       "    <tr>\n",
       "      <th>123</th>\n",
       "      <td>Pineapple, ready-to-drink</td>\n",
       "      <td>Juice</td>\n",
       "      <td>1.0288</td>\n",
       "      <td>per pint</td>\n",
       "      <td>1.0</td>\n",
       "      <td>8.0</td>\n",
       "      <td>fluid ounces</td>\n",
       "      <td>0.5144</td>\n",
       "    </tr>\n",
       "    <tr>\n",
       "      <th>127</th>\n",
       "      <td>Plum (prune), ready-to-drink</td>\n",
       "      <td>Juice</td>\n",
       "      <td>1.5522</td>\n",
       "      <td>per pint</td>\n",
       "      <td>1.0</td>\n",
       "      <td>8.0</td>\n",
       "      <td>fluid ounces</td>\n",
       "      <td>0.7761</td>\n",
       "    </tr>\n",
       "    <tr>\n",
       "      <th>130</th>\n",
       "      <td>Pomegranate, ready-to-drink</td>\n",
       "      <td>Juice</td>\n",
       "      <td>3.1220</td>\n",
       "      <td>per pint</td>\n",
       "      <td>1.0</td>\n",
       "      <td>8.0</td>\n",
       "      <td>fluid ounces</td>\n",
       "      <td>1.5610</td>\n",
       "    </tr>\n",
       "  </tbody>\n",
       "</table>\n",
       "</div>"
      ],
      "text/plain": [
       "                              Item   Form  RetailPrice RetailPriceUnit  Yield  \\\n",
       "3       Apples, frozen concentrate  Juice       0.5853        per pint    1.0   \n",
       "4           Apples, ready-to-drink  Juice       0.7804        per pint    1.0   \n",
       "63      Grapefruit, ready-to-drink  Juice       1.0415        per pint    1.0   \n",
       "66      Grapes, frozen concentrate  Juice       0.7119        per pint    1.0   \n",
       "67          Grapes, ready-to-drink  Juice       0.9215        per pint    1.0   \n",
       "107    Oranges, frozen concentrate  Juice       0.7690        per pint    1.0   \n",
       "108        Oranges, ready-to-drink  Juice       0.9842        per pint    1.0   \n",
       "120  Pineapple, frozen concentrate  Juice       0.6973        per pint    1.0   \n",
       "123      Pineapple, ready-to-drink  Juice       1.0288        per pint    1.0   \n",
       "127   Plum (prune), ready-to-drink  Juice       1.5522        per pint    1.0   \n",
       "130    Pomegranate, ready-to-drink  Juice       3.1220        per pint    1.0   \n",
       "\n",
       "     CupEquivalentSize CupEquivalentUnit  CupEquivalentPrice  \n",
       "3                  8.0      fluid ounces              0.2926  \n",
       "4                  8.0      fluid ounces              0.3902  \n",
       "63                 8.0      fluid ounces              0.5208  \n",
       "66                 8.0      fluid ounces              0.3559  \n",
       "67                 8.0      fluid ounces              0.4607  \n",
       "107                8.0      fluid ounces              0.3845  \n",
       "108                8.0      fluid ounces              0.4921  \n",
       "120                8.0      fluid ounces              0.3486  \n",
       "123                8.0      fluid ounces              0.5144  \n",
       "127                8.0      fluid ounces              0.7761  \n",
       "130                8.0      fluid ounces              1.5610  "
      ]
     },
     "execution_count": 18,
     "metadata": {},
     "output_type": "execute_result"
    }
   ],
   "source": [
    "df[df['CupEquivalentSize'] > 3]"
   ]
  },
  {
   "cell_type": "code",
   "execution_count": 19,
   "id": "2b2d1638",
   "metadata": {
    "execution": {
     "iopub.execute_input": "2023-11-14T11:20:13.790214Z",
     "iopub.status.busy": "2023-11-14T11:20:13.788790Z",
     "iopub.status.idle": "2023-11-14T11:20:13.816557Z",
     "shell.execute_reply": "2023-11-14T11:20:13.815082Z"
    },
    "papermill": {
     "duration": 0.049481,
     "end_time": "2023-11-14T11:20:13.819790",
     "exception": false,
     "start_time": "2023-11-14T11:20:13.770309",
     "status": "completed"
    },
    "tags": []
   },
   "outputs": [
    {
     "data": {
      "text/html": [
       "<div>\n",
       "<style scoped>\n",
       "    .dataframe tbody tr th:only-of-type {\n",
       "        vertical-align: middle;\n",
       "    }\n",
       "\n",
       "    .dataframe tbody tr th {\n",
       "        vertical-align: top;\n",
       "    }\n",
       "\n",
       "    .dataframe thead th {\n",
       "        text-align: right;\n",
       "    }\n",
       "</style>\n",
       "<table border=\"1\" class=\"dataframe\">\n",
       "  <thead>\n",
       "    <tr style=\"text-align: right;\">\n",
       "      <th></th>\n",
       "      <th>Item</th>\n",
       "      <th>Form</th>\n",
       "      <th>RetailPrice</th>\n",
       "      <th>RetailPriceUnit</th>\n",
       "      <th>Yield</th>\n",
       "      <th>CupEquivalentSize</th>\n",
       "      <th>CupEquivalentUnit</th>\n",
       "      <th>CupEquivalentPrice</th>\n",
       "    </tr>\n",
       "  </thead>\n",
       "  <tbody>\n",
       "    <tr>\n",
       "      <th>3</th>\n",
       "      <td>Apples, frozen concentrate</td>\n",
       "      <td>Juice</td>\n",
       "      <td>0.5853</td>\n",
       "      <td>per pint</td>\n",
       "      <td>1.0</td>\n",
       "      <td>8.0</td>\n",
       "      <td>fluid ounces</td>\n",
       "      <td>0.2926</td>\n",
       "    </tr>\n",
       "    <tr>\n",
       "      <th>4</th>\n",
       "      <td>Apples, ready-to-drink</td>\n",
       "      <td>Juice</td>\n",
       "      <td>0.7804</td>\n",
       "      <td>per pint</td>\n",
       "      <td>1.0</td>\n",
       "      <td>8.0</td>\n",
       "      <td>fluid ounces</td>\n",
       "      <td>0.3902</td>\n",
       "    </tr>\n",
       "    <tr>\n",
       "      <th>63</th>\n",
       "      <td>Grapefruit, ready-to-drink</td>\n",
       "      <td>Juice</td>\n",
       "      <td>1.0415</td>\n",
       "      <td>per pint</td>\n",
       "      <td>1.0</td>\n",
       "      <td>8.0</td>\n",
       "      <td>fluid ounces</td>\n",
       "      <td>0.5208</td>\n",
       "    </tr>\n",
       "    <tr>\n",
       "      <th>66</th>\n",
       "      <td>Grapes, frozen concentrate</td>\n",
       "      <td>Juice</td>\n",
       "      <td>0.7119</td>\n",
       "      <td>per pint</td>\n",
       "      <td>1.0</td>\n",
       "      <td>8.0</td>\n",
       "      <td>fluid ounces</td>\n",
       "      <td>0.3559</td>\n",
       "    </tr>\n",
       "    <tr>\n",
       "      <th>67</th>\n",
       "      <td>Grapes, ready-to-drink</td>\n",
       "      <td>Juice</td>\n",
       "      <td>0.9215</td>\n",
       "      <td>per pint</td>\n",
       "      <td>1.0</td>\n",
       "      <td>8.0</td>\n",
       "      <td>fluid ounces</td>\n",
       "      <td>0.4607</td>\n",
       "    </tr>\n",
       "    <tr>\n",
       "      <th>107</th>\n",
       "      <td>Oranges, frozen concentrate</td>\n",
       "      <td>Juice</td>\n",
       "      <td>0.7690</td>\n",
       "      <td>per pint</td>\n",
       "      <td>1.0</td>\n",
       "      <td>8.0</td>\n",
       "      <td>fluid ounces</td>\n",
       "      <td>0.3845</td>\n",
       "    </tr>\n",
       "    <tr>\n",
       "      <th>108</th>\n",
       "      <td>Oranges, ready-to-drink</td>\n",
       "      <td>Juice</td>\n",
       "      <td>0.9842</td>\n",
       "      <td>per pint</td>\n",
       "      <td>1.0</td>\n",
       "      <td>8.0</td>\n",
       "      <td>fluid ounces</td>\n",
       "      <td>0.4921</td>\n",
       "    </tr>\n",
       "    <tr>\n",
       "      <th>120</th>\n",
       "      <td>Pineapple, frozen concentrate</td>\n",
       "      <td>Juice</td>\n",
       "      <td>0.6973</td>\n",
       "      <td>per pint</td>\n",
       "      <td>1.0</td>\n",
       "      <td>8.0</td>\n",
       "      <td>fluid ounces</td>\n",
       "      <td>0.3486</td>\n",
       "    </tr>\n",
       "    <tr>\n",
       "      <th>123</th>\n",
       "      <td>Pineapple, ready-to-drink</td>\n",
       "      <td>Juice</td>\n",
       "      <td>1.0288</td>\n",
       "      <td>per pint</td>\n",
       "      <td>1.0</td>\n",
       "      <td>8.0</td>\n",
       "      <td>fluid ounces</td>\n",
       "      <td>0.5144</td>\n",
       "    </tr>\n",
       "    <tr>\n",
       "      <th>127</th>\n",
       "      <td>Plum (prune), ready-to-drink</td>\n",
       "      <td>Juice</td>\n",
       "      <td>1.5522</td>\n",
       "      <td>per pint</td>\n",
       "      <td>1.0</td>\n",
       "      <td>8.0</td>\n",
       "      <td>fluid ounces</td>\n",
       "      <td>0.7761</td>\n",
       "    </tr>\n",
       "    <tr>\n",
       "      <th>130</th>\n",
       "      <td>Pomegranate, ready-to-drink</td>\n",
       "      <td>Juice</td>\n",
       "      <td>3.1220</td>\n",
       "      <td>per pint</td>\n",
       "      <td>1.0</td>\n",
       "      <td>8.0</td>\n",
       "      <td>fluid ounces</td>\n",
       "      <td>1.5610</td>\n",
       "    </tr>\n",
       "  </tbody>\n",
       "</table>\n",
       "</div>"
      ],
      "text/plain": [
       "                              Item   Form  RetailPrice RetailPriceUnit  Yield  \\\n",
       "3       Apples, frozen concentrate  Juice       0.5853        per pint    1.0   \n",
       "4           Apples, ready-to-drink  Juice       0.7804        per pint    1.0   \n",
       "63      Grapefruit, ready-to-drink  Juice       1.0415        per pint    1.0   \n",
       "66      Grapes, frozen concentrate  Juice       0.7119        per pint    1.0   \n",
       "67          Grapes, ready-to-drink  Juice       0.9215        per pint    1.0   \n",
       "107    Oranges, frozen concentrate  Juice       0.7690        per pint    1.0   \n",
       "108        Oranges, ready-to-drink  Juice       0.9842        per pint    1.0   \n",
       "120  Pineapple, frozen concentrate  Juice       0.6973        per pint    1.0   \n",
       "123      Pineapple, ready-to-drink  Juice       1.0288        per pint    1.0   \n",
       "127   Plum (prune), ready-to-drink  Juice       1.5522        per pint    1.0   \n",
       "130    Pomegranate, ready-to-drink  Juice       3.1220        per pint    1.0   \n",
       "\n",
       "     CupEquivalentSize CupEquivalentUnit  CupEquivalentPrice  \n",
       "3                  8.0      fluid ounces              0.2926  \n",
       "4                  8.0      fluid ounces              0.3902  \n",
       "63                 8.0      fluid ounces              0.5208  \n",
       "66                 8.0      fluid ounces              0.3559  \n",
       "67                 8.0      fluid ounces              0.4607  \n",
       "107                8.0      fluid ounces              0.3845  \n",
       "108                8.0      fluid ounces              0.4921  \n",
       "120                8.0      fluid ounces              0.3486  \n",
       "123                8.0      fluid ounces              0.5144  \n",
       "127                8.0      fluid ounces              0.7761  \n",
       "130                8.0      fluid ounces              1.5610  "
      ]
     },
     "execution_count": 19,
     "metadata": {},
     "output_type": "execute_result"
    }
   ],
   "source": [
    "df[df['RetailPriceUnit'].isin([\"per pint\"])]"
   ]
  },
  {
   "cell_type": "code",
   "execution_count": 20,
   "id": "29bbf025",
   "metadata": {
    "execution": {
     "iopub.execute_input": "2023-11-14T11:20:13.853466Z",
     "iopub.status.busy": "2023-11-14T11:20:13.853011Z",
     "iopub.status.idle": "2023-11-14T11:20:14.268650Z",
     "shell.execute_reply": "2023-11-14T11:20:14.266856Z"
    },
    "papermill": {
     "duration": 0.43523,
     "end_time": "2023-11-14T11:20:14.271526",
     "exception": false,
     "start_time": "2023-11-14T11:20:13.836296",
     "status": "completed"
    },
    "tags": []
   },
   "outputs": [
    {
     "data": {
      "image/png": "[encoded data removed]",
      "text/plain": [
       "<Figure size 800x600 with 1 Axes>"
      ]
     },
     "metadata": {},
     "output_type": "display_data"
    }
   ],
   "source": [
    "# Scatter Plot for RetailPrice vs Yield\n",
    "plt.figure(figsize=(8, 6))\n",
    "sns.scatterplot(x='CupEquivalentSize', y='CupEquivalentPrice', data=df)\n",
    "plt.title('CupEquivalentSize vs CupEquivalentPrice')\n",
    "plt.xlabel('CupEquivalentSize')\n",
    "plt.ylabel('CupEquivalentPrice')\n",
    "plt.show()\n"
   ]
  },
  {
   "cell_type": "code",
   "execution_count": 21,
   "id": "761b1f47",
   "metadata": {
    "execution": {
     "iopub.execute_input": "2023-11-14T11:20:14.306455Z",
     "iopub.status.busy": "2023-11-14T11:20:14.304916Z",
     "iopub.status.idle": "2023-11-14T11:20:14.312444Z",
     "shell.execute_reply": "2023-11-14T11:20:14.311080Z"
    },
    "papermill": {
     "duration": 0.028386,
     "end_time": "2023-11-14T11:20:14.316356",
     "exception": false,
     "start_time": "2023-11-14T11:20:14.287970",
     "status": "completed"
    },
    "tags": []
   },
   "outputs": [],
   "source": [
    "df['AdjustedCostPerCup'] = df['CupEquivalentPrice'] / (df['Yield'] * df['CupEquivalentSize'])\n"
   ]
  },
  {
   "cell_type": "code",
   "execution_count": 22,
   "id": "6d162358",
   "metadata": {
    "execution": {
     "iopub.execute_input": "2023-11-14T11:20:14.352035Z",
     "iopub.status.busy": "2023-11-14T11:20:14.350688Z",
     "iopub.status.idle": "2023-11-14T11:20:14.364686Z",
     "shell.execute_reply": "2023-11-14T11:20:14.363281Z"
    },
    "papermill": {
     "duration": 0.035675,
     "end_time": "2023-11-14T11:20:14.367336",
     "exception": false,
     "start_time": "2023-11-14T11:20:14.331661",
     "status": "completed"
    },
    "tags": []
   },
   "outputs": [
    {
     "data": {
      "text/plain": [
       "Item\n",
       "Turnip greens                         3\n",
       "Corn                                  3\n",
       "Green beans                           3\n",
       "Mustard greens                        2\n",
       "Blackberries                          2\n",
       "                                     ..\n",
       "Clementines                           1\n",
       "Cherries, packed in syrup or water    1\n",
       "Cherries                              1\n",
       "Celery, trimmed bunches               1\n",
       "Zucchini                              1\n",
       "Name: count, Length: 117, dtype: int64"
      ]
     },
     "execution_count": 22,
     "metadata": {},
     "output_type": "execute_result"
    }
   ],
   "source": [
    "df[\"Item\"].value_counts()"
   ]
  },
  {
   "cell_type": "code",
   "execution_count": 23,
   "id": "70e6a998",
   "metadata": {
    "execution": {
     "iopub.execute_input": "2023-11-14T11:20:14.405277Z",
     "iopub.status.busy": "2023-11-14T11:20:14.404469Z",
     "iopub.status.idle": "2023-11-14T11:20:14.428159Z",
     "shell.execute_reply": "2023-11-14T11:20:14.426165Z"
    },
    "papermill": {
     "duration": 0.046845,
     "end_time": "2023-11-14T11:20:14.431469",
     "exception": false,
     "start_time": "2023-11-14T11:20:14.384624",
     "status": "completed"
    },
    "tags": []
   },
   "outputs": [
    {
     "data": {
      "text/html": [
       "<div>\n",
       "<style scoped>\n",
       "    .dataframe tbody tr th:only-of-type {\n",
       "        vertical-align: middle;\n",
       "    }\n",
       "\n",
       "    .dataframe tbody tr th {\n",
       "        vertical-align: top;\n",
       "    }\n",
       "\n",
       "    .dataframe thead th {\n",
       "        text-align: right;\n",
       "    }\n",
       "</style>\n",
       "<table border=\"1\" class=\"dataframe\">\n",
       "  <thead>\n",
       "    <tr style=\"text-align: right;\">\n",
       "      <th></th>\n",
       "      <th>Item</th>\n",
       "      <th>Form</th>\n",
       "      <th>RetailPrice</th>\n",
       "      <th>RetailPriceUnit</th>\n",
       "      <th>Yield</th>\n",
       "      <th>CupEquivalentSize</th>\n",
       "      <th>CupEquivalentUnit</th>\n",
       "      <th>CupEquivalentPrice</th>\n",
       "      <th>AdjustedCostPerCup</th>\n",
       "    </tr>\n",
       "  </thead>\n",
       "  <tbody>\n",
       "    <tr>\n",
       "      <th>9</th>\n",
       "      <td>Artichoke</td>\n",
       "      <td>Fresh</td>\n",
       "      <td>2.1913</td>\n",
       "      <td>per pound</td>\n",
       "      <td>0.375</td>\n",
       "      <td>0.3858</td>\n",
       "      <td>pounds</td>\n",
       "      <td>2.2545</td>\n",
       "      <td>15.583204</td>\n",
       "    </tr>\n",
       "    <tr>\n",
       "      <th>10</th>\n",
       "      <td>Artichoke</td>\n",
       "      <td>Canned</td>\n",
       "      <td>3.4119</td>\n",
       "      <td>per pound</td>\n",
       "      <td>0.650</td>\n",
       "      <td>0.3858</td>\n",
       "      <td>pounds</td>\n",
       "      <td>2.0251</td>\n",
       "      <td>8.075527</td>\n",
       "    </tr>\n",
       "  </tbody>\n",
       "</table>\n",
       "</div>"
      ],
      "text/plain": [
       "         Item    Form  RetailPrice RetailPriceUnit  Yield  CupEquivalentSize  \\\n",
       "9   Artichoke   Fresh       2.1913       per pound  0.375             0.3858   \n",
       "10  Artichoke  Canned       3.4119       per pound  0.650             0.3858   \n",
       "\n",
       "   CupEquivalentUnit  CupEquivalentPrice  AdjustedCostPerCup  \n",
       "9             pounds              2.2545           15.583204  \n",
       "10            pounds              2.0251            8.075527  "
      ]
     },
     "execution_count": 23,
     "metadata": {},
     "output_type": "execute_result"
    }
   ],
   "source": [
    "df[df[\"Item\"].isin(['Artichoke'])]"
   ]
  },
  {
   "cell_type": "code",
   "execution_count": 24,
   "id": "8c94f6a7",
   "metadata": {
    "execution": {
     "iopub.execute_input": "2023-11-14T11:20:14.465654Z",
     "iopub.status.busy": "2023-11-14T11:20:14.465266Z",
     "iopub.status.idle": "2023-11-14T11:20:14.496816Z",
     "shell.execute_reply": "2023-11-14T11:20:14.495329Z"
    },
    "papermill": {
     "duration": 0.052183,
     "end_time": "2023-11-14T11:20:14.499943",
     "exception": false,
     "start_time": "2023-11-14T11:20:14.447760",
     "status": "completed"
    },
    "tags": []
   },
   "outputs": [
    {
     "data": {
      "text/html": [
       "<div>\n",
       "<style scoped>\n",
       "    .dataframe tbody tr th:only-of-type {\n",
       "        vertical-align: middle;\n",
       "    }\n",
       "\n",
       "    .dataframe tbody tr th {\n",
       "        vertical-align: top;\n",
       "    }\n",
       "\n",
       "    .dataframe thead th {\n",
       "        text-align: right;\n",
       "    }\n",
       "</style>\n",
       "<table border=\"1\" class=\"dataframe\">\n",
       "  <thead>\n",
       "    <tr style=\"text-align: right;\">\n",
       "      <th></th>\n",
       "      <th>Item</th>\n",
       "      <th>Form</th>\n",
       "      <th>RetailPrice</th>\n",
       "      <th>RetailPriceUnit</th>\n",
       "      <th>Yield</th>\n",
       "      <th>CupEquivalentSize</th>\n",
       "      <th>CupEquivalentUnit</th>\n",
       "      <th>CupEquivalentPrice</th>\n",
       "      <th>AdjustedCostPerCup</th>\n",
       "    </tr>\n",
       "  </thead>\n",
       "  <tbody>\n",
       "    <tr>\n",
       "      <th>9</th>\n",
       "      <td>Artichoke</td>\n",
       "      <td>Fresh</td>\n",
       "      <td>2.1913</td>\n",
       "      <td>per pound</td>\n",
       "      <td>0.3750</td>\n",
       "      <td>0.3858</td>\n",
       "      <td>pounds</td>\n",
       "      <td>2.2545</td>\n",
       "      <td>15.583204</td>\n",
       "    </tr>\n",
       "    <tr>\n",
       "      <th>11</th>\n",
       "      <td>Asparagus</td>\n",
       "      <td>Fresh</td>\n",
       "      <td>2.7576</td>\n",
       "      <td>per pound</td>\n",
       "      <td>0.4938</td>\n",
       "      <td>0.3968</td>\n",
       "      <td>pounds</td>\n",
       "      <td>2.2159</td>\n",
       "      <td>11.309083</td>\n",
       "    </tr>\n",
       "    <tr>\n",
       "      <th>47</th>\n",
       "      <td>Cherries, packed in syrup or water</td>\n",
       "      <td>Canned</td>\n",
       "      <td>4.5257</td>\n",
       "      <td>per pound</td>\n",
       "      <td>0.6500</td>\n",
       "      <td>0.4409</td>\n",
       "      <td>pounds</td>\n",
       "      <td>3.0700</td>\n",
       "      <td>10.712354</td>\n",
       "    </tr>\n",
       "    <tr>\n",
       "      <th>90</th>\n",
       "      <td>Mangoes</td>\n",
       "      <td>Dried</td>\n",
       "      <td>10.5527</td>\n",
       "      <td>per pound</td>\n",
       "      <td>1.0000</td>\n",
       "      <td>0.1253</td>\n",
       "      <td>pounds</td>\n",
       "      <td>1.3219</td>\n",
       "      <td>10.549880</td>\n",
       "    </tr>\n",
       "    <tr>\n",
       "      <th>10</th>\n",
       "      <td>Artichoke</td>\n",
       "      <td>Canned</td>\n",
       "      <td>3.4119</td>\n",
       "      <td>per pound</td>\n",
       "      <td>0.6500</td>\n",
       "      <td>0.3858</td>\n",
       "      <td>pounds</td>\n",
       "      <td>2.0251</td>\n",
       "      <td>8.075527</td>\n",
       "    </tr>\n",
       "    <tr>\n",
       "      <th>59</th>\n",
       "      <td>Figs</td>\n",
       "      <td>Dried</td>\n",
       "      <td>6.8371</td>\n",
       "      <td>per pound</td>\n",
       "      <td>0.9600</td>\n",
       "      <td>0.1653</td>\n",
       "      <td>pounds</td>\n",
       "      <td>1.1776</td>\n",
       "      <td>7.420851</td>\n",
       "    </tr>\n",
       "    <tr>\n",
       "      <th>12</th>\n",
       "      <td>Asparagus</td>\n",
       "      <td>Canned</td>\n",
       "      <td>3.1269</td>\n",
       "      <td>per pound</td>\n",
       "      <td>0.6500</td>\n",
       "      <td>0.3968</td>\n",
       "      <td>pounds</td>\n",
       "      <td>1.9090</td>\n",
       "      <td>7.401520</td>\n",
       "    </tr>\n",
       "    <tr>\n",
       "      <th>136</th>\n",
       "      <td>Raspberries</td>\n",
       "      <td>Fresh</td>\n",
       "      <td>6.6391</td>\n",
       "      <td>per pound</td>\n",
       "      <td>0.9600</td>\n",
       "      <td>0.3197</td>\n",
       "      <td>pounds</td>\n",
       "      <td>2.2107</td>\n",
       "      <td>7.203042</td>\n",
       "    </tr>\n",
       "    <tr>\n",
       "      <th>129</th>\n",
       "      <td>Pomegranate</td>\n",
       "      <td>Fresh</td>\n",
       "      <td>2.2350</td>\n",
       "      <td>per pound</td>\n",
       "      <td>0.5600</td>\n",
       "      <td>0.3417</td>\n",
       "      <td>pounds</td>\n",
       "      <td>1.3638</td>\n",
       "      <td>7.127179</td>\n",
       "    </tr>\n",
       "    <tr>\n",
       "      <th>102</th>\n",
       "      <td>Okra</td>\n",
       "      <td>Fresh</td>\n",
       "      <td>3.9803</td>\n",
       "      <td>per pound</td>\n",
       "      <td>0.7695</td>\n",
       "      <td>0.3527</td>\n",
       "      <td>pounds</td>\n",
       "      <td>1.8246</td>\n",
       "      <td>6.722853</td>\n",
       "    </tr>\n",
       "    <tr>\n",
       "      <th>119</th>\n",
       "      <td>Pineapple</td>\n",
       "      <td>Dried</td>\n",
       "      <td>6.6492</td>\n",
       "      <td>per pound</td>\n",
       "      <td>1.0000</td>\n",
       "      <td>0.1543</td>\n",
       "      <td>pounds</td>\n",
       "      <td>1.0261</td>\n",
       "      <td>6.650032</td>\n",
       "    </tr>\n",
       "    <tr>\n",
       "      <th>6</th>\n",
       "      <td>Apricots</td>\n",
       "      <td>Dried</td>\n",
       "      <td>6.6188</td>\n",
       "      <td>per pound</td>\n",
       "      <td>1.0000</td>\n",
       "      <td>0.1433</td>\n",
       "      <td>pounds</td>\n",
       "      <td>0.9485</td>\n",
       "      <td>6.618981</td>\n",
       "    </tr>\n",
       "    <tr>\n",
       "      <th>20</th>\n",
       "      <td>Blackberries</td>\n",
       "      <td>Fresh</td>\n",
       "      <td>6.0172</td>\n",
       "      <td>per pound</td>\n",
       "      <td>0.9600</td>\n",
       "      <td>0.3197</td>\n",
       "      <td>pounds</td>\n",
       "      <td>2.0037</td>\n",
       "      <td>6.528581</td>\n",
       "    </tr>\n",
       "    <tr>\n",
       "      <th>52</th>\n",
       "      <td>Corn</td>\n",
       "      <td>Fresh</td>\n",
       "      <td>1.8908</td>\n",
       "      <td>per pound</td>\n",
       "      <td>0.5400</td>\n",
       "      <td>0.3638</td>\n",
       "      <td>pounds</td>\n",
       "      <td>1.2737</td>\n",
       "      <td>6.483518</td>\n",
       "    </tr>\n",
       "    <tr>\n",
       "      <th>104</th>\n",
       "      <td>Olives</td>\n",
       "      <td>Canned</td>\n",
       "      <td>5.7719</td>\n",
       "      <td>per pound</td>\n",
       "      <td>1.0000</td>\n",
       "      <td>0.2976</td>\n",
       "      <td>pounds</td>\n",
       "      <td>1.7179</td>\n",
       "      <td>5.772513</td>\n",
       "    </tr>\n",
       "  </tbody>\n",
       "</table>\n",
       "</div>"
      ],
      "text/plain": [
       "                                   Item    Form  RetailPrice RetailPriceUnit  \\\n",
       "9                             Artichoke   Fresh       2.1913       per pound   \n",
       "11                            Asparagus   Fresh       2.7576       per pound   \n",
       "47   Cherries, packed in syrup or water  Canned       4.5257       per pound   \n",
       "90                              Mangoes   Dried      10.5527       per pound   \n",
       "10                            Artichoke  Canned       3.4119       per pound   \n",
       "59                                 Figs   Dried       6.8371       per pound   \n",
       "12                            Asparagus  Canned       3.1269       per pound   \n",
       "136                         Raspberries   Fresh       6.6391       per pound   \n",
       "129                         Pomegranate   Fresh       2.2350       per pound   \n",
       "102                                Okra   Fresh       3.9803       per pound   \n",
       "119                           Pineapple   Dried       6.6492       per pound   \n",
       "6                              Apricots   Dried       6.6188       per pound   \n",
       "20                         Blackberries   Fresh       6.0172       per pound   \n",
       "52                                 Corn   Fresh       1.8908       per pound   \n",
       "104                              Olives  Canned       5.7719       per pound   \n",
       "\n",
       "      Yield  CupEquivalentSize CupEquivalentUnit  CupEquivalentPrice  \\\n",
       "9    0.3750             0.3858            pounds              2.2545   \n",
       "11   0.4938             0.3968            pounds              2.2159   \n",
       "47   0.6500             0.4409            pounds              3.0700   \n",
       "90   1.0000             0.1253            pounds              1.3219   \n",
       "10   0.6500             0.3858            pounds              2.0251   \n",
       "59   0.9600             0.1653            pounds              1.1776   \n",
       "12   0.6500             0.3968            pounds              1.9090   \n",
       "136  0.9600             0.3197            pounds              2.2107   \n",
       "129  0.5600             0.3417            pounds              1.3638   \n",
       "102  0.7695             0.3527            pounds              1.8246   \n",
       "119  1.0000             0.1543            pounds              1.0261   \n",
       "6    1.0000             0.1433            pounds              0.9485   \n",
       "20   0.9600             0.3197            pounds              2.0037   \n",
       "52   0.5400             0.3638            pounds              1.2737   \n",
       "104  1.0000             0.2976            pounds              1.7179   \n",
       "\n",
       "     AdjustedCostPerCup  \n",
       "9             15.583204  \n",
       "11            11.309083  \n",
       "47            10.712354  \n",
       "90            10.549880  \n",
       "10             8.075527  \n",
       "59             7.420851  \n",
       "12             7.401520  \n",
       "136            7.203042  \n",
       "129            7.127179  \n",
       "102            6.722853  \n",
       "119            6.650032  \n",
       "6              6.618981  \n",
       "20             6.528581  \n",
       "52             6.483518  \n",
       "104            5.772513  "
      ]
     },
     "execution_count": 24,
     "metadata": {},
     "output_type": "execute_result"
    }
   ],
   "source": [
    "df.sort_values(by='AdjustedCostPerCup',ascending = False).head(15)"
   ]
  },
  {
   "cell_type": "code",
   "execution_count": 25,
   "id": "70fc74ff",
   "metadata": {
    "execution": {
     "iopub.execute_input": "2023-11-14T11:20:14.538004Z",
     "iopub.status.busy": "2023-11-14T11:20:14.536248Z",
     "iopub.status.idle": "2023-11-14T11:20:15.153226Z",
     "shell.execute_reply": "2023-11-14T11:20:15.151542Z"
    },
    "papermill": {
     "duration": 0.640377,
     "end_time": "2023-11-14T11:20:15.156957",
     "exception": false,
     "start_time": "2023-11-14T11:20:14.516580",
     "status": "completed"
    },
    "tags": []
   },
   "outputs": [
    {
     "data": {
      "image/png": "[encoded data removed]",
      "text/plain": [
       "<Figure size 1200x800 with 1 Axes>"
      ]
     },
     "metadata": {},
     "output_type": "display_data"
    }
   ],
   "source": [
    "sorted_df = df.sort_values(by='AdjustedCostPerCup', ascending=False).head(20)\n",
    "\n",
    "# Create the bar plot\n",
    "plt.figure(figsize=(12, 8))  # Set the figure size\n",
    "sns.barplot(x='AdjustedCostPerCup', y='Item', data=sorted_df)\n",
    "\n",
    "# Adding titles and labels\n",
    "plt.title('Cost Per Cup by Item')\n",
    "plt.xlabel('Adjusted Cost Per Cup')\n",
    "plt.ylabel('Item')\n",
    "\n",
    "# Show the plot\n",
    "plt.show()"
   ]
  }
 ],
 "metadata": {
  "kernelspec": {
   "display_name": "Python 3",
   "language": "python",
   "name": "python3"
  },
  "language_info": {
   "codemirror_mode": {
    "name": "ipython",
    "version": 3
   },
   "file_extension": ".py",
   "mimetype": "text/x-python",
   "name": "python",
   "nbconvert_exporter": "python",
   "pygments_lexer": "ipython3",
   "version": "3.10.12"
  },
  "papermill": {
   "default_parameters": {},
   "duration": 12.008217,
   "end_time": "2023-11-14T11:20:16.002340",
   "environment_variables": {},
   "exception": null,
   "input_path": "__notebook__.ipynb",
   "output_path": "__notebook__.ipynb",
   "parameters": {},
   "start_time": "2023-11-14T11:20:03.994123",
   "version": "2.4.0"
  }
 },
 "nbformat": 4,
 "nbformat_minor": 5
}
