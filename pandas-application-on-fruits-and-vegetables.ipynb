{
 "cells": [
  {
   "cell_type": "code",
   "execution_count": 1,
   "id": "25247b8c",
   "metadata": {
    "_cell_guid": "b1076dfc-b9ad-4769-8c92-a6c4dae69d19",
    "_uuid": "8f2839f25d086af736a60e9eeb907d3b93b6e0e5",
    "execution": {
     "iopub.execute_input": "2023-11-12T12:20:25.388117Z",
     "iopub.status.busy": "2023-11-12T12:20:25.387622Z",
     "iopub.status.idle": "2023-11-12T12:20:25.865710Z",
     "shell.execute_reply": "2023-11-12T12:20:25.864469Z"
    },
    "papermill": {
     "duration": 0.487478,
     "end_time": "2023-11-12T12:20:25.868698",
     "exception": false,
     "start_time": "2023-11-12T12:20:25.381220",
     "status": "completed"
    },
    "tags": []
   },
   "outputs": [
    {
     "name": "stdout",
     "output_type": "stream",
     "text": [
      "/kaggle/input/fruits-and-vegetables-prices-in-usa/Prices.csv\n"
     ]
    }
   ],
   "source": [
    "# This Python 3 environment comes with many helpful analytics libraries installed\n",
    "# It is defined by the kaggle/python Docker image: https://github.com/kaggle/docker-python\n",
    "# For example, here's several helpful packages to load\n",
    "\n",
    "import numpy as np # linear algebra\n",
    "import pandas as pd # data processing, CSV file I/O (e.g. pd.read_csv)\n",
    "\n",
    "# Input data files are available in the read-only \"../input/\" directory\n",
    "# For example, running this (by clicking run or pressing Shift+Enter) will list all files under the input directory\n",
    "\n",
    "import os\n",
    "for dirname, _, filenames in os.walk('/kaggle/input'):\n",
    "    for filename in filenames:\n",
    "        print(os.path.join(dirname, filename))\n",
    "\n",
    "# You can write up to 20GB to the current directory (/kaggle/working/) that gets preserved as output when you create a version using \"Save & Run All\" \n",
    "# You can also write temporary files to /kaggle/temp/, but they won't be saved outside of the current session"
   ]
  },
  {
   "cell_type": "code",
   "execution_count": 2,
   "id": "403c0bcf",
   "metadata": {
    "execution": {
     "iopub.execute_input": "2023-11-12T12:20:25.878789Z",
     "iopub.status.busy": "2023-11-12T12:20:25.878167Z",
     "iopub.status.idle": "2023-11-12T12:20:25.900509Z",
     "shell.execute_reply": "2023-11-12T12:20:25.899122Z"
    },
    "papermill": {
     "duration": 0.030154,
     "end_time": "2023-11-12T12:20:25.903069",
     "exception": false,
     "start_time": "2023-11-12T12:20:25.872915",
     "status": "completed"
    },
    "tags": []
   },
   "outputs": [],
   "source": [
    "file = pd.read_csv(\"/kaggle/input/fruits-and-vegetables-prices-in-usa/Prices.csv\")"
   ]
  },
  {
   "cell_type": "code",
   "execution_count": 3,
   "id": "d9812878",
   "metadata": {
    "execution": {
     "iopub.execute_input": "2023-11-12T12:20:25.912936Z",
     "iopub.status.busy": "2023-11-12T12:20:25.912159Z",
     "iopub.status.idle": "2023-11-12T12:20:25.918110Z",
     "shell.execute_reply": "2023-11-12T12:20:25.916907Z"
    },
    "papermill": {
     "duration": 0.013495,
     "end_time": "2023-11-12T12:20:25.920618",
     "exception": false,
     "start_time": "2023-11-12T12:20:25.907123",
     "status": "completed"
    },
    "tags": []
   },
   "outputs": [],
   "source": [
    "df = pd.DataFrame(file)"
   ]
  },
  {
   "cell_type": "code",
   "execution_count": 4,
   "id": "f7ee9d9f",
   "metadata": {
    "execution": {
     "iopub.execute_input": "2023-11-12T12:20:25.929794Z",
     "iopub.status.busy": "2023-11-12T12:20:25.929037Z",
     "iopub.status.idle": "2023-11-12T12:20:25.960716Z",
     "shell.execute_reply": "2023-11-12T12:20:25.959593Z"
    },
    "papermill": {
     "duration": 0.04001,
     "end_time": "2023-11-12T12:20:25.964243",
     "exception": false,
     "start_time": "2023-11-12T12:20:25.924233",
     "status": "completed"
    },
    "tags": []
   },
   "outputs": [
    {
     "data": {
      "text/html": [
       "<div>\n",
       "<style scoped>\n",
       "    .dataframe tbody tr th:only-of-type {\n",
       "        vertical-align: middle;\n",
       "    }\n",
       "\n",
       "    .dataframe tbody tr th {\n",
       "        vertical-align: top;\n",
       "    }\n",
       "\n",
       "    .dataframe thead th {\n",
       "        text-align: right;\n",
       "    }\n",
       "</style>\n",
       "<table border=\"1\" class=\"dataframe\">\n",
       "  <thead>\n",
       "    <tr style=\"text-align: right;\">\n",
       "      <th></th>\n",
       "      <th>Item</th>\n",
       "      <th>Form</th>\n",
       "      <th>RetailPrice</th>\n",
       "      <th>RetailPriceUnit</th>\n",
       "      <th>Yield</th>\n",
       "      <th>CupEquivalentSize</th>\n",
       "      <th>CupEquivalentUnit</th>\n",
       "      <th>CupEquivalentPrice</th>\n",
       "    </tr>\n",
       "  </thead>\n",
       "  <tbody>\n",
       "    <tr>\n",
       "      <th>0</th>\n",
       "      <td>Acorn squash</td>\n",
       "      <td>Fresh</td>\n",
       "      <td>1.1804</td>\n",
       "      <td>per pound</td>\n",
       "      <td>0.4586</td>\n",
       "      <td>0.4519</td>\n",
       "      <td>pounds</td>\n",
       "      <td>1.1633</td>\n",
       "    </tr>\n",
       "    <tr>\n",
       "      <th>1</th>\n",
       "      <td>Apples</td>\n",
       "      <td>Fresh</td>\n",
       "      <td>1.5193</td>\n",
       "      <td>per pound</td>\n",
       "      <td>0.9000</td>\n",
       "      <td>0.2425</td>\n",
       "      <td>pounds</td>\n",
       "      <td>0.4094</td>\n",
       "    </tr>\n",
       "    <tr>\n",
       "      <th>2</th>\n",
       "      <td>Apples, applesauce</td>\n",
       "      <td>Canned</td>\n",
       "      <td>1.0660</td>\n",
       "      <td>per pound</td>\n",
       "      <td>1.0000</td>\n",
       "      <td>0.5401</td>\n",
       "      <td>pounds</td>\n",
       "      <td>0.5758</td>\n",
       "    </tr>\n",
       "    <tr>\n",
       "      <th>3</th>\n",
       "      <td>Apples, frozen concentrate</td>\n",
       "      <td>Juice</td>\n",
       "      <td>0.5853</td>\n",
       "      <td>per pint</td>\n",
       "      <td>1.0000</td>\n",
       "      <td>8.0000</td>\n",
       "      <td>fluid ounces</td>\n",
       "      <td>0.2926</td>\n",
       "    </tr>\n",
       "    <tr>\n",
       "      <th>4</th>\n",
       "      <td>Apples, ready-to-drink</td>\n",
       "      <td>Juice</td>\n",
       "      <td>0.7804</td>\n",
       "      <td>per pint</td>\n",
       "      <td>1.0000</td>\n",
       "      <td>8.0000</td>\n",
       "      <td>fluid ounces</td>\n",
       "      <td>0.3902</td>\n",
       "    </tr>\n",
       "  </tbody>\n",
       "</table>\n",
       "</div>"
      ],
      "text/plain": [
       "                         Item    Form  RetailPrice RetailPriceUnit   Yield  \\\n",
       "0                Acorn squash   Fresh       1.1804       per pound  0.4586   \n",
       "1                      Apples   Fresh       1.5193       per pound  0.9000   \n",
       "2          Apples, applesauce  Canned       1.0660       per pound  1.0000   \n",
       "3  Apples, frozen concentrate   Juice       0.5853        per pint  1.0000   \n",
       "4      Apples, ready-to-drink   Juice       0.7804        per pint  1.0000   \n",
       "\n",
       "   CupEquivalentSize CupEquivalentUnit  CupEquivalentPrice  \n",
       "0             0.4519            pounds              1.1633  \n",
       "1             0.2425            pounds              0.4094  \n",
       "2             0.5401            pounds              0.5758  \n",
       "3             8.0000      fluid ounces              0.2926  \n",
       "4             8.0000      fluid ounces              0.3902  "
      ]
     },
     "execution_count": 4,
     "metadata": {},
     "output_type": "execute_result"
    }
   ],
   "source": [
    "df.head()"
   ]
  },
  {
   "cell_type": "code",
   "execution_count": 5,
   "id": "653151de",
   "metadata": {
    "execution": {
     "iopub.execute_input": "2023-11-12T12:20:25.974266Z",
     "iopub.status.busy": "2023-11-12T12:20:25.973860Z",
     "iopub.status.idle": "2023-11-12T12:20:25.986628Z",
     "shell.execute_reply": "2023-11-12T12:20:25.985501Z"
    },
    "papermill": {
     "duration": 0.020808,
     "end_time": "2023-11-12T12:20:25.989236",
     "exception": false,
     "start_time": "2023-11-12T12:20:25.968428",
     "status": "completed"
    },
    "tags": []
   },
   "outputs": [
    {
     "data": {
      "text/plain": [
       "array(['per pound', 'per pint'], dtype=object)"
      ]
     },
     "execution_count": 5,
     "metadata": {},
     "output_type": "execute_result"
    }
   ],
   "source": [
    "df[\"RetailPriceUnit\"].unique()"
   ]
  },
  {
   "cell_type": "code",
   "execution_count": 6,
   "id": "bb22743a",
   "metadata": {
    "execution": {
     "iopub.execute_input": "2023-11-12T12:20:25.999246Z",
     "iopub.status.busy": "2023-11-12T12:20:25.998847Z",
     "iopub.status.idle": "2023-11-12T12:20:26.010608Z",
     "shell.execute_reply": "2023-11-12T12:20:26.009257Z"
    },
    "papermill": {
     "duration": 0.019588,
     "end_time": "2023-11-12T12:20:26.013032",
     "exception": false,
     "start_time": "2023-11-12T12:20:25.993444",
     "status": "completed"
    },
    "tags": []
   },
   "outputs": [
    {
     "data": {
      "text/plain": [
       "0      0.4586\n",
       "1      0.9000\n",
       "2      1.0000\n",
       "3      1.0000\n",
       "4      1.0000\n",
       "        ...  \n",
       "150    0.7500\n",
       "151    0.6500\n",
       "152    0.7760\n",
       "153    0.5200\n",
       "154    0.7695\n",
       "Name: Yield, Length: 155, dtype: float64"
      ]
     },
     "execution_count": 6,
     "metadata": {},
     "output_type": "execute_result"
    }
   ],
   "source": [
    "df[\"Yield\"]"
   ]
  },
  {
   "cell_type": "code",
   "execution_count": 7,
   "id": "52287462",
   "metadata": {
    "execution": {
     "iopub.execute_input": "2023-11-12T12:20:26.024166Z",
     "iopub.status.busy": "2023-11-12T12:20:26.023289Z",
     "iopub.status.idle": "2023-11-12T12:20:26.051709Z",
     "shell.execute_reply": "2023-11-12T12:20:26.050858Z"
    },
    "papermill": {
     "duration": 0.036465,
     "end_time": "2023-11-12T12:20:26.053973",
     "exception": false,
     "start_time": "2023-11-12T12:20:26.017508",
     "status": "completed"
    },
    "tags": []
   },
   "outputs": [
    {
     "data": {
      "text/html": [
       "<div>\n",
       "<style scoped>\n",
       "    .dataframe tbody tr th:only-of-type {\n",
       "        vertical-align: middle;\n",
       "    }\n",
       "\n",
       "    .dataframe tbody tr th {\n",
       "        vertical-align: top;\n",
       "    }\n",
       "\n",
       "    .dataframe thead th {\n",
       "        text-align: right;\n",
       "    }\n",
       "</style>\n",
       "<table border=\"1\" class=\"dataframe\">\n",
       "  <thead>\n",
       "    <tr style=\"text-align: right;\">\n",
       "      <th></th>\n",
       "      <th>RetailPrice</th>\n",
       "      <th>Yield</th>\n",
       "      <th>CupEquivalentSize</th>\n",
       "      <th>CupEquivalentPrice</th>\n",
       "    </tr>\n",
       "  </thead>\n",
       "  <tbody>\n",
       "    <tr>\n",
       "      <th>count</th>\n",
       "      <td>155.000000</td>\n",
       "      <td>155.000000</td>\n",
       "      <td>155.000000</td>\n",
       "      <td>155.000000</td>\n",
       "    </tr>\n",
       "    <tr>\n",
       "      <th>mean</th>\n",
       "      <td>2.179553</td>\n",
       "      <td>0.926450</td>\n",
       "      <td>0.885175</td>\n",
       "      <td>0.814088</td>\n",
       "    </tr>\n",
       "    <tr>\n",
       "      <th>std</th>\n",
       "      <td>1.559205</td>\n",
       "      <td>0.400215</td>\n",
       "      <td>1.974584</td>\n",
       "      <td>0.485388</td>\n",
       "    </tr>\n",
       "    <tr>\n",
       "      <th>min</th>\n",
       "      <td>0.360400</td>\n",
       "      <td>0.375000</td>\n",
       "      <td>0.123200</td>\n",
       "      <td>0.202100</td>\n",
       "    </tr>\n",
       "    <tr>\n",
       "      <th>25%</th>\n",
       "      <td>1.156550</td>\n",
       "      <td>0.665000</td>\n",
       "      <td>0.319700</td>\n",
       "      <td>0.519850</td>\n",
       "    </tr>\n",
       "    <tr>\n",
       "      <th>50%</th>\n",
       "      <td>1.721800</td>\n",
       "      <td>0.910000</td>\n",
       "      <td>0.352700</td>\n",
       "      <td>0.676900</td>\n",
       "    </tr>\n",
       "    <tr>\n",
       "      <th>75%</th>\n",
       "      <td>2.578300</td>\n",
       "      <td>1.000000</td>\n",
       "      <td>0.385800</td>\n",
       "      <td>1.022300</td>\n",
       "    </tr>\n",
       "    <tr>\n",
       "      <th>max</th>\n",
       "      <td>10.552700</td>\n",
       "      <td>2.539700</td>\n",
       "      <td>8.000000</td>\n",
       "      <td>3.070000</td>\n",
       "    </tr>\n",
       "  </tbody>\n",
       "</table>\n",
       "</div>"
      ],
      "text/plain": [
       "       RetailPrice       Yield  CupEquivalentSize  CupEquivalentPrice\n",
       "count   155.000000  155.000000         155.000000          155.000000\n",
       "mean      2.179553    0.926450           0.885175            0.814088\n",
       "std       1.559205    0.400215           1.974584            0.485388\n",
       "min       0.360400    0.375000           0.123200            0.202100\n",
       "25%       1.156550    0.665000           0.319700            0.519850\n",
       "50%       1.721800    0.910000           0.352700            0.676900\n",
       "75%       2.578300    1.000000           0.385800            1.022300\n",
       "max      10.552700    2.539700           8.000000            3.070000"
      ]
     },
     "execution_count": 7,
     "metadata": {},
     "output_type": "execute_result"
    }
   ],
   "source": [
    "df.describe()"
   ]
  },
  {
   "cell_type": "code",
   "execution_count": null,
   "id": "de349101",
   "metadata": {
    "papermill": {
     "duration": 0.004554,
     "end_time": "2023-11-12T12:20:26.063255",
     "exception": false,
     "start_time": "2023-11-12T12:20:26.058701",
     "status": "completed"
    },
    "tags": []
   },
   "outputs": [],
   "source": []
  }
 ],
 "metadata": {
  "kernelspec": {
   "display_name": "Python 3",
   "language": "python",
   "name": "python3"
  },
  "language_info": {
   "codemirror_mode": {
    "name": "ipython",
    "version": 3
   },
   "file_extension": ".py",
   "mimetype": "text/x-python",
   "name": "python",
   "nbconvert_exporter": "python",
   "pygments_lexer": "ipython3",
   "version": "3.10.12"
  },
  "papermill": {
   "default_parameters": {},
   "duration": 4.667318,
   "end_time": "2023-11-12T12:20:26.689493",
   "environment_variables": {},
   "exception": null,
   "input_path": "__notebook__.ipynb",
   "output_path": "__notebook__.ipynb",
   "parameters": {},
   "start_time": "2023-11-12T12:20:22.022175",
   "version": "2.4.0"
  }
 },
 "nbformat": 4,
 "nbformat_minor": 5
}
